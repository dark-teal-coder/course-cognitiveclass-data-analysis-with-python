{
  "cells": [
    {
      "attachments": {},
      "cell_type": "markdown",
      "metadata": {},
      "source": [
        "# Model Development\n",
        "\n",
        "Estimated time needed: **30** minutes\n",
        "\n",
        "## Objectives\n",
        "\n",
        "- Develop prediction models\n",
        "\n",
        "## Table of Contents\n",
        "\n",
        "- [Heading 1](#heading-1)"
      ]
    },
    {
      "attachments": {},
      "cell_type": "markdown",
      "metadata": {},
      "source": [
        "---"
      ]
    },
    {
      "attachments": {},
      "cell_type": "markdown",
      "metadata": {},
      "source": [
        "## Video Lessons"
      ]
    },
    {
      "attachments": {},
      "cell_type": "markdown",
      "metadata": {},
      "source": [
        "- <img src=\"https://user-images.githubusercontent.com/95575665/168158125-0d826c1a-ffea-4ea9-a2bc-f3b0f4f0b99a.png\" alt=\"youtube-logo.png\" width=\"15\" height=\"10\"> [Model Development](https://www.youtube.com/watch?v=bWfGEjSFb6c)\n",
        "- <img src=\"https://user-images.githubusercontent.com/95575665/168158125-0d826c1a-ffea-4ea9-a2bc-f3b0f4f0b99a.png\" alt=\"youtube-logo.png\" width=\"15\" height=\"10\"> [Linear Regression and Multiple Linear Regression](https://www.youtube.com/watch?v=gGJMSnhzFOI)\n",
        "- <img src=\"https://user-images.githubusercontent.com/95575665/168158125-0d826c1a-ffea-4ea9-a2bc-f3b0f4f0b99a.png\" alt=\"youtube-logo.png\" width=\"15\" height=\"10\"> [Model Evaluation using Visualization](https://www.youtube.com/watch?v=0bKS5rq9Gl0)\n",
        "- <img src=\"https://user-images.githubusercontent.com/95575665/168158125-0d826c1a-ffea-4ea9-a2bc-f3b0f4f0b99a.png\" alt=\"youtube-logo.png\" width=\"15\" height=\"10\"> [Polynomial Regression and Pipelines](https://www.youtube.com/watch?v=ARzgJMakC-8)\n",
        "- <img src=\"https://user-images.githubusercontent.com/95575665/168158125-0d826c1a-ffea-4ea9-a2bc-f3b0f4f0b99a.png\" alt=\"youtube-logo.png\" width=\"15\" height=\"10\"> [Measures for In-Sample Evaluation](https://www.youtube.com/watch?v=bXrB0VRiT10)\n",
        "- <img src=\"https://user-images.githubusercontent.com/95575665/168158125-0d826c1a-ffea-4ea9-a2bc-f3b0f4f0b99a.png\" alt=\"youtube-logo.png\" width=\"15\" height=\"10\"> [Prediction and Decision Making](https://www.youtube.com/watch?v=J-4-fR1wuKw)"
      ]
    },
    {
      "attachments": {},
      "cell_type": "markdown",
      "metadata": {},
      "source": [
        "---"
      ]
    },
    {
      "attachments": {},
      "cell_type": "markdown",
      "metadata": {},
      "source": [
        "## Dataset"
      ]
    },
    {
      "attachments": {},
      "cell_type": "markdown",
      "metadata": {},
      "source": [
        "We will be using the following dataset.\n",
        "\n",
        "- Data source: [automobileEDA.csv](https://cf-courses-data.s3.us.cloud-object-storage.appdomain.cloud/IBMDeveloperSkillsNetwork-DA0101EN-SkillsNetwork/labs/Data%20files/automobileEDA.csv)\n",
        "- Data type: CSV"
      ]
    },
    {
      "cell_type": "code",
      "execution_count": 1,
      "metadata": {},
      "outputs": [],
      "source": [
        "## Data file in .csv format stored on the internet\n",
        "filename = \"https://cf-courses-data.s3.us.cloud-object-storage.appdomain.cloud/IBMDeveloperSkillsNetwork-DA0101EN-SkillsNetwork/labs/Data%20files/automobileEDA.csv\""
      ]
    },
    {
      "attachments": {},
      "cell_type": "markdown",
      "metadata": {},
      "source": [
        "## Setup"
      ]
    },
    {
      "cell_type": "code",
      "execution_count": 2,
      "metadata": {},
      "outputs": [],
      "source": [
        "## Install libraries using piplite when running the notebook in browser\n",
        "# import piplite\n",
        "# await piplite.install(['pandas'])\n",
        "# await piplite.install(['matplotlib', 'seaborn'])\n",
        "# await piplite.install(['scipy'])\n",
        "# await piplite.install(['scikit-learn'])\n",
        "# await piplite.install(['skillsnetwork'])"
      ]
    },
    {
      "attachments": {},
      "cell_type": "markdown",
      "metadata": {},
      "source": [
        "If the notebook is run locally using Anaconda, uncomment the following cell to load the correct libraries and versions."
      ]
    },
    {
      "cell_type": "code",
      "execution_count": 3,
      "metadata": {},
      "outputs": [],
      "source": [
        "## Install a specific version of libraries locally with Anaconda\n",
        "# !mamba install pandas==1.3.3\n",
        "# !mamba install numpy=1.21.2\n",
        "# !mamba install scipy=1.7.1 -y\n",
        "# !mamba install seaborn=0.9.0 -y\n",
        "#! mamba install sklearn=0.20.1 -y"
      ]
    },
    {
      "attachments": {},
      "cell_type": "markdown",
      "metadata": {},
      "source": [
        "This function will download the dataset into our browser."
      ]
    },
    {
      "cell_type": "code",
      "execution_count": 4,
      "metadata": {},
      "outputs": [],
      "source": [
        "## Download dataset into browser\n",
        "# from pyodide.http import pyfetch\n",
        "\n",
        "# async def download(url, filename):\n",
        "#     response = await pyfetch(url)\n",
        "#     if response.status == 200:\n",
        "#         with open(filename, \"wb\") as f:\n",
        "#             f.write(await response.bytes())"
      ]
    },
    {
      "attachments": {},
      "cell_type": "markdown",
      "metadata": {},
      "source": [
        "We will need to download the [dataset](https://cf-courses-data.s3.us.cloud-object-storage.appdomain.cloud/IBMDeveloperSkillsNetwork-DA0101EN-SkillsNetwork/labs/Data%20files/automobileEDA.csv) if we run the notebook locally. Please comment out the following cell."
      ]
    },
    {
      "cell_type": "code",
      "execution_count": 5,
      "metadata": {},
      "outputs": [],
      "source": [
        "# await skillsnetwork.download_dataset('https://cf-courses-data.s3.us.cloud-object-storage.appdomain.cloud/IBMDeveloperSkillsNetwork-DA0101EN-SkillsNetwork/labs/Data%20files/automobileEDA.csv')"
      ]
    },
    {
      "attachments": {},
      "cell_type": "markdown",
      "metadata": {},
      "source": [
        "## Part 01: Model Development"
      ]
    },
    {
      "attachments": {},
      "cell_type": "markdown",
      "metadata": {},
      "source": [
        "In this section, we will develop several models that will predict the price of the car using the variables or features. This is just an estimate but should give us an objective idea of how much the car should cost.\n",
        "\n",
        "Some questions we want to ask here:\n",
        "\n",
        "- Do I know if the dealer is offering fair value for my trade-in?\n",
        "- Do I know if I put a fair value on my car?\n",
        "\n",
        "In data analytics, we often use Model Development to help us predict future observations from the data we have. A model will help us understand the exact relationship between different variables and how these variables are used to predict the result."
      ]
    },
    {
      "cell_type": "code",
      "execution_count": 6,
      "metadata": {},
      "outputs": [],
      "source": [
        "import pandas as pd\n",
        "import numpy as np\n",
        "## Import visualization packages\n",
        "import matplotlib.pyplot as plt\n",
        "import seaborn as sns\n",
        "import warnings"
      ]
    },
    {
      "cell_type": "code",
      "execution_count": 7,
      "metadata": {},
      "outputs": [],
      "source": [
        "## Show graphs inline\n",
        "%matplotlib inline"
      ]
    },
    {
      "cell_type": "code",
      "execution_count": 8,
      "metadata": {},
      "outputs": [],
      "source": [
        "## To specify the warning to suppress, as well as the action to take when the warning is raised\n",
        "warnings.filterwarnings('ignore')"
      ]
    },
    {
      "attachments": {},
      "cell_type": "markdown",
      "metadata": {},
      "source": [
        "This line of code will ignore warnings, such as [depreciation warning](../images/depreciation-warning.png). See the [Warning Control documentation](https://docs.python.org/3/library/warnings.html)."
      ]
    },
    {
      "cell_type": "code",
      "execution_count": 9,
      "metadata": {},
      "outputs": [],
      "source": [
        "## Load the data file and use the 1st row as column names\n",
        "df = pd.read_csv(\"automobileEDA.csv\", header=0)"
      ]
    },
    {
      "attachments": {},
      "cell_type": "markdown",
      "metadata": {},
      "source": [
        "## Part 02: Linear Regression and Multiple Linear Regression"
      ]
    },
    {
      "attachments": {},
      "cell_type": "markdown",
      "metadata": {},
      "source": [
        "### Linear Regression"
      ]
    },
    {
      "attachments": {},
      "cell_type": "markdown",
      "metadata": {},
      "source": [
        "One example of a **data model** that we will be using is: Simple Linear Regression.\n",
        "\n",
        "Simple Linear Regression is a method to help us understand the relationship between two variables:\n",
        "\n",
        "- The predictor/independent variable (X)\n",
        "- The response/dependent variable (Y) (that we want to predict)\n",
        "\n",
        "The result of Linear Regression is a **linear function** that predicts the response (dependent) variable as a function of the predictor (independent) variable."
      ]
    },
    {
      "attachments": {},
      "cell_type": "markdown",
      "metadata": {},
      "source": [
        "#### Simple Linear Regression Function"
      ]
    },
    {
      "attachments": {},
      "cell_type": "markdown",
      "metadata": {},
      "source": [
        "$$\n",
        "Yhat = a + bX\n",
        "$$\n",
        "\n",
        "where \n",
        "\n",
        "- $Y$: response variable\n",
        "- $X$: predictor variable\n",
        "- $a$ refers to the **intercept** of the regression line (i.e. the value of Y when X is 0)\n",
        "- $b$ refers to the **coefficient** of $X$ or **slope** of the regression line (i.e. the value with which Y changes when X increases by 1 unit)"
      ]
    },
    {
      "attachments": {},
      "cell_type": "markdown",
      "metadata": {},
      "source": [
        "Let's load the module for linear regression."
      ]
    },
    {
      "cell_type": "code",
      "execution_count": 10,
      "metadata": {},
      "outputs": [],
      "source": [
        "from sklearn.linear_model import LinearRegression"
      ]
    },
    {
      "cell_type": "code",
      "execution_count": 11,
      "metadata": {},
      "outputs": [],
      "source": [
        "## Create linear regression model\n",
        "SLR_model = LinearRegression()"
      ]
    },
    {
      "cell_type": "code",
      "execution_count": 12,
      "metadata": {},
      "outputs": [
        {
          "name": "stdout",
          "output_type": "stream",
          "text": [
            "<class 'sklearn.linear_model._base.LinearRegression'>\n"
          ]
        }
      ],
      "source": [
        "print(type(SLR_model))\n",
        "# print(SLR_model)"
      ]
    },
    {
      "attachments": {},
      "cell_type": "markdown",
      "metadata": {},
      "source": [
        "**How could \"highway-mpg\" help us predict car price?**"
      ]
    },
    {
      "attachments": {},
      "cell_type": "markdown",
      "metadata": {},
      "source": [
        "For this example, we want to look at how highway MPG can help us predict car price. Using simple linear regression, we will create a linear function with \"highway-mpg\" as the predictor variable and the \"price\" as the response variable."
      ]
    },
    {
      "cell_type": "code",
      "execution_count": 13,
      "metadata": {},
      "outputs": [],
      "source": [
        "## Variables\n",
        "x_SLR = df[['highway-mpg']]\n",
        "y_SLR = df['price']"
      ]
    },
    {
      "attachments": {},
      "cell_type": "markdown",
      "metadata": {},
      "source": [
        "Fit the linear model using \"highway-mpg\"."
      ]
    },
    {
      "cell_type": "code",
      "execution_count": 14,
      "metadata": {},
      "outputs": [
        {
          "data": {
            "text/plain": [
              "LinearRegression()"
            ]
          },
          "execution_count": 14,
          "metadata": {},
          "output_type": "execute_result"
        }
      ],
      "source": [
        "## Train the machine learning model/algorithm on the training data\n",
        "SLR_model.fit(x_SLR, y_SLR)"
      ]
    },
    {
      "attachments": {},
      "cell_type": "markdown",
      "metadata": {},
      "source": [
        "See [A Quick Introduction to the Sklearn Fit Method](https://www.sharpsightlabs.com/blog/sklearn-fit/)."
      ]
    },
    {
      "attachments": {},
      "cell_type": "markdown",
      "metadata": {},
      "source": [
        "We can output a prediction."
      ]
    },
    {
      "cell_type": "code",
      "execution_count": 15,
      "metadata": {},
      "outputs": [
        {
          "name": "stdout",
          "output_type": "stream",
          "text": [
            "[16236.50464347 16236.50464347 17058.23802179 13771.3045085\n",
            " 20345.17153508]\n"
          ]
        }
      ],
      "source": [
        "## predict the labels of the data values on the basis of the trained model\n",
        "Yhat_SLR = SLR_model.predict(x_SLR)\n",
        "# print(Yhat)\n",
        "print(Yhat_SLR[0:5])"
      ]
    },
    {
      "attachments": {},
      "cell_type": "markdown",
      "metadata": {},
      "source": [
        "#### Intercept"
      ]
    },
    {
      "attachments": {},
      "cell_type": "markdown",
      "metadata": {},
      "source": [
        "What is the value of the intercept $a$?"
      ]
    },
    {
      "cell_type": "code",
      "execution_count": 16,
      "metadata": {},
      "outputs": [
        {
          "data": {
            "text/plain": [
              "38423.305858157386"
            ]
          },
          "execution_count": 16,
          "metadata": {},
          "output_type": "execute_result"
        }
      ],
      "source": [
        "## Intercept\n",
        "SLR_model.intercept_"
      ]
    },
    {
      "attachments": {},
      "cell_type": "markdown",
      "metadata": {},
      "source": [
        "#### Slope"
      ]
    },
    {
      "attachments": {},
      "cell_type": "markdown",
      "metadata": {},
      "source": [
        "What is the value of the slope $b$?"
      ]
    },
    {
      "cell_type": "code",
      "execution_count": 17,
      "metadata": {},
      "outputs": [
        {
          "data": {
            "text/plain": [
              "array([-821.73337832])"
            ]
          },
          "execution_count": 17,
          "metadata": {},
          "output_type": "execute_result"
        }
      ],
      "source": [
        "## Slope/coefficient\n",
        "SLR_model.coef_"
      ]
    },
    {
      "attachments": {},
      "cell_type": "markdown",
      "metadata": {},
      "source": [
        "What is the final estimated linear model we get? \n",
        "\n",
        "As we saw above, we should get a final linear model with the structure:\n",
        "\n",
        "$$\n",
        "Yhat = a + bX\n",
        "$$\n",
        "\n",
        "Plugging in the actual values we get:\n",
        "\n",
        "$$\n",
        "price = 38423.31 - 821.73 \\times Highway\\ MPG\n",
        "$$"
      ]
    },
    {
      "attachments": {},
      "cell_type": "markdown",
      "metadata": {},
      "source": [
        "1. Create a linear regression object called \"linear_model1\"."
      ]
    },
    {
      "cell_type": "code",
      "execution_count": 18,
      "metadata": {},
      "outputs": [
        {
          "name": "stdout",
          "output_type": "stream",
          "text": [
            "LinearRegression()\n"
          ]
        }
      ],
      "source": [
        "model1 = LinearRegression()\n",
        "print(model1)"
      ]
    },
    {
      "attachments": {},
      "cell_type": "markdown",
      "metadata": {},
      "source": [
        "<details><summary>Click here for the solution</summary>\n",
        "\n",
        "```python\n",
        "linear_model1 = LinearRegression()\n",
        "linear_model1\n",
        "```\n",
        "\n",
        "</details>"
      ]
    },
    {
      "attachments": {},
      "cell_type": "markdown",
      "metadata": {},
      "source": [
        "2. Train the model using \"engine-size\" as the independent variable and \"price\" as the dependent variable."
      ]
    },
    {
      "cell_type": "code",
      "execution_count": 19,
      "metadata": {},
      "outputs": [
        {
          "name": "stdout",
          "output_type": "stream",
          "text": [
            "LinearRegression()\n"
          ]
        }
      ],
      "source": [
        "x_1 = df[['engine-size']]\n",
        "y_1 = df[['price']]\n",
        "model1.fit(x_1, y_1)\n",
        "print(model1)"
      ]
    },
    {
      "attachments": {},
      "cell_type": "markdown",
      "metadata": {},
      "source": [
        "<details><summary>Click here for the solution</summary>\n",
        "\n",
        "```python\n",
        "linear_model1.fit(df[['engine-size']], df[['price']])\n",
        "linear_model1\n",
        "```\n",
        "\n",
        "</details>"
      ]
    },
    {
      "attachments": {},
      "cell_type": "markdown",
      "metadata": {},
      "source": [
        "3. Find the intercept and slope of the model."
      ]
    },
    {
      "cell_type": "code",
      "execution_count": 20,
      "metadata": {},
      "outputs": [
        {
          "data": {
            "text/plain": [
              "array([[166.86001569]])"
            ]
          },
          "execution_count": 20,
          "metadata": {},
          "output_type": "execute_result"
        }
      ],
      "source": [
        "## Slope\n",
        "model1.coef_"
      ]
    },
    {
      "attachments": {},
      "cell_type": "markdown",
      "metadata": {},
      "source": [
        "<details><summary>Click here for the solution</summary>\n",
        "    \n",
        "```python\n",
        "# Slope \n",
        "linear_model1.coef_\n",
        "```\n",
        "\n",
        "</details>"
      ]
    },
    {
      "cell_type": "code",
      "execution_count": 21,
      "metadata": {},
      "outputs": [
        {
          "data": {
            "text/plain": [
              "array([-7963.33890628])"
            ]
          },
          "execution_count": 21,
          "metadata": {},
          "output_type": "execute_result"
        }
      ],
      "source": [
        "## Intercept\n",
        "model1.intercept_"
      ]
    },
    {
      "attachments": {},
      "cell_type": "markdown",
      "metadata": {},
      "source": [
        "<details><summary>Click here for the solution</summary>\n",
        "\n",
        "```python\n",
        "# Intercept\n",
        "linear_model1.intercept_\n",
        "```\n",
        "\n",
        "</details>"
      ]
    },
    {
      "attachments": {},
      "cell_type": "markdown",
      "metadata": {},
      "source": [
        "4. What is the equation of the predicted line? "
      ]
    },
    {
      "cell_type": "code",
      "execution_count": 22,
      "metadata": {},
      "outputs": [],
      "source": [
        "## Use X and Yhat\n",
        "Yhat_1 = -7963.34 + 166.86*x_1"
      ]
    },
    {
      "attachments": {},
      "cell_type": "markdown",
      "metadata": {},
      "source": [
        "<details><summary>Click here for the solution</summary>\n",
        "\n",
        "```python\n",
        "# Using X and Y\n",
        "Yhat = -7963.34 + 166.86*X\n",
        "pr_2ice = -7963.34 + 166.86*df['engine-size']\n",
        "```\n",
        "\n",
        "</details>"
      ]
    },
    {
      "attachments": {},
      "cell_type": "markdown",
      "metadata": {},
      "source": [
        "### Multiple Linear Regression"
      ]
    },
    {
      "attachments": {},
      "cell_type": "markdown",
      "metadata": {},
      "source": [
        "What if we want to predict car price using more than one variable? If we want to use more variables in our model to predict car price, we can use Multiple Linear Regression.\n",
        "\n",
        "Multiple Linear Regression is very similar to Simple Linear Regression but this method is used to explain the relationship between 1 continuous response (dependent) variable and 2 or more predictor (independent) variables.\n",
        "\n",
        "Most of the real-world regression models involve multiple predictors. We will illustrate the structure by using 4 predictor variables but these results can generalize to any integer."
      ]
    },
    {
      "attachments": {},
      "cell_type": "markdown",
      "metadata": {},
      "source": [
        "#### Multiple Linear Regression Function"
      ]
    },
    {
      "attachments": {},
      "cell_type": "markdown",
      "metadata": {},
      "source": [
        "$$\n",
        "Yhat = a + b_1 X_1 + b_2 X_2 + b_3 X_3 + b_4 X_4 + ...\n",
        "$$\n",
        "\n",
        "where \n",
        "\n",
        "- $Y$: response variable\n",
        "- $X_1$: predictor variable 1\n",
        "- $X_2$: predictor variable 2\n",
        "- $X_3$: predictor variable 3\n",
        "- $X_4$: predictor variable 4\n",
        "- $a$ refers to the **intercept** of the regression line (i.e. the value of Y when all X's are 0)\n",
        "- $b_1$ refers to the **coefficient** of $X_1$\n",
        "- $b_2$ refers to the **coefficient** of $X_2$\n",
        "- $b_3$ refers to the **coefficient** of $X_3$\n",
        "- $b_4$ refers to the **coefficient** of $X_4$"
      ]
    },
    {
      "attachments": {},
      "cell_type": "markdown",
      "metadata": {},
      "source": [
        "From the previous section, we know that other good predictors of price could be:\n",
        "\n",
        "- Horsepower\n",
        "- Curb-weight\n",
        "- Engine-size\n",
        "- Highway-mpg\n",
        "\n",
        "Let's develop a model using these variables as the predictor variables."
      ]
    },
    {
      "cell_type": "code",
      "execution_count": 23,
      "metadata": {},
      "outputs": [],
      "source": [
        "## Create linear regression models\n",
        "MLR_model = LinearRegression()"
      ]
    },
    {
      "cell_type": "code",
      "execution_count": 24,
      "metadata": {},
      "outputs": [
        {
          "name": "stdout",
          "output_type": "stream",
          "text": [
            "<class 'sklearn.linear_model._base.LinearRegression'>\n"
          ]
        }
      ],
      "source": [
        "print(type(MLR_model))\n",
        "# print(MLR_model)"
      ]
    },
    {
      "cell_type": "code",
      "execution_count": 25,
      "metadata": {},
      "outputs": [],
      "source": [
        "## Variables\n",
        "z_MLR = df[['horsepower', 'curb-weight', 'engine-size', 'highway-mpg']]\n",
        "y_MLR = df['price']"
      ]
    },
    {
      "attachments": {},
      "cell_type": "markdown",
      "metadata": {},
      "source": [
        "Fit the linear model using the 4 variables above."
      ]
    },
    {
      "cell_type": "code",
      "execution_count": 26,
      "metadata": {},
      "outputs": [
        {
          "data": {
            "text/plain": [
              "LinearRegression()"
            ]
          },
          "execution_count": 26,
          "metadata": {},
          "output_type": "execute_result"
        }
      ],
      "source": [
        "## Train the machine learning model/algorithm on the training data\n",
        "MLR_model.fit(z_MLR, y_MLR)"
      ]
    },
    {
      "attachments": {},
      "cell_type": "markdown",
      "metadata": {},
      "source": [
        "What is the value of the intercept $a$?"
      ]
    },
    {
      "cell_type": "code",
      "execution_count": 27,
      "metadata": {},
      "outputs": [
        {
          "data": {
            "text/plain": [
              "-15806.624626329198"
            ]
          },
          "execution_count": 27,
          "metadata": {},
          "output_type": "execute_result"
        }
      ],
      "source": [
        "## Intercept\n",
        "MLR_model.intercept_"
      ]
    },
    {
      "attachments": {},
      "cell_type": "markdown",
      "metadata": {},
      "source": [
        "What are the values of the coefficients $b_1, b_2, b_3, b_4$?"
      ]
    },
    {
      "cell_type": "code",
      "execution_count": 28,
      "metadata": {},
      "outputs": [
        {
          "data": {
            "text/plain": [
              "array([53.49574423,  4.70770099, 81.53026382, 36.05748882])"
            ]
          },
          "execution_count": 28,
          "metadata": {},
          "output_type": "execute_result"
        }
      ],
      "source": [
        "## Coefficients\n",
        "MLR_model.coef_"
      ]
    },
    {
      "attachments": {},
      "cell_type": "markdown",
      "metadata": {},
      "source": [
        "What is the final estimated linear model that we get?\n",
        "\n",
        "As we saw above, we should get a final linear function with the structure:\n",
        "\n",
        "$$\n",
        "Yhat = a + b_1 X_1 + b_2 X_2 + b_3 X_3 + b_4 X_4\n",
        "$$\n",
        "\n",
        "What is the linear function we get in this example?\n",
        "\n",
        "$$\n",
        "price = -15678.742628061467 + 52.65851272 \\times Horsepower + 4.69878948 \\times Curb\\ Weight + 81.95906216 \\times Engine\\ Size + 33.58258185 \\times Highway\\ MPG\n",
        "$$"
      ]
    },
    {
      "attachments": {},
      "cell_type": "markdown",
      "metadata": {},
      "source": [
        "5. Create and train a Multiple Linear Regression model where the response variable is \"price\" and the predictor variables are \"normalized-losses\" and \"highway-mpg\"."
      ]
    },
    {
      "cell_type": "code",
      "execution_count": 29,
      "metadata": {},
      "outputs": [
        {
          "data": {
            "text/plain": [
              "LinearRegression()"
            ]
          },
          "execution_count": 29,
          "metadata": {},
          "output_type": "execute_result"
        }
      ],
      "source": [
        "model2 = LinearRegression()\n",
        "x_2 = df[['normalized-losses', 'highway-mpg']]\n",
        "y_2 = df['price']\n",
        "model2.fit(x_2, y_2)"
      ]
    },
    {
      "attachments": {},
      "cell_type": "markdown",
      "metadata": {},
      "source": [
        "<details><summary>Click here for the solution</summary>\n",
        "\n",
        "```python\n",
        "model2 = LinearRegression()\n",
        "model2.fit(df[['normalized-losses', 'highway-mpg']], df['price'])\n",
        "```\n",
        "\n",
        "</details>"
      ]
    },
    {
      "attachments": {},
      "cell_type": "markdown",
      "metadata": {},
      "source": [
        "6. Find the coefficients of the model."
      ]
    },
    {
      "cell_type": "code",
      "execution_count": 30,
      "metadata": {},
      "outputs": [
        {
          "data": {
            "text/plain": [
              "array([   1.49789586, -820.45434016])"
            ]
          },
          "execution_count": 30,
          "metadata": {},
          "output_type": "execute_result"
        }
      ],
      "source": [
        "model2.coef_"
      ]
    },
    {
      "attachments": {},
      "cell_type": "markdown",
      "metadata": {},
      "source": [
        "<details><summary>Click here for the solution</summary>\n",
        "\n",
        "```python\n",
        "model2.coef_\n",
        "```\n",
        "\n",
        "</details>"
      ]
    },
    {
      "attachments": {},
      "cell_type": "markdown",
      "metadata": {},
      "source": [
        "## Part 03: Model Evaluation using Visualization"
      ]
    },
    {
      "attachments": {},
      "cell_type": "markdown",
      "metadata": {},
      "source": [
        "Now that we have developed some models, how do we evaluate our models and choose the best one? One way to do this is by using a visualization."
      ]
    },
    {
      "attachments": {},
      "cell_type": "markdown",
      "metadata": {},
      "source": [
        "### Simple Linear Regression Model Evaluation Using Visualization"
      ]
    },
    {
      "attachments": {},
      "cell_type": "markdown",
      "metadata": {},
      "source": [
        "#### Regression Plot"
      ]
    },
    {
      "attachments": {},
      "cell_type": "markdown",
      "metadata": {},
      "source": [
        "When it comes to simple linear regression, an excellent way to visualize the fit of our model is by using **regression plots**.\n",
        "\n",
        "This plot will show a combination of **scatterplot** (i.e. scattered data points), as well as the fitted **linear regression** line going through the data. This will give us a reasonable estimate of the relationship between the two variables, the strength of the correlation, as well as the direction (positive or negative correlation)."
      ]
    },
    {
      "attachments": {},
      "cell_type": "markdown",
      "metadata": {},
      "source": [
        "Let's visualize \"highway-mpg\" as potential predictor variable of price."
      ]
    },
    {
      "cell_type": "code",
      "execution_count": 31,
      "metadata": {},
      "outputs": [
        {
          "data": {
            "text/plain": [
              "<Figure size 1200x1000 with 0 Axes>"
            ]
          },
          "execution_count": 31,
          "metadata": {},
          "output_type": "execute_result"
        },
        {
          "data": {
            "text/plain": [
              "<Figure size 1200x1000 with 0 Axes>"
            ]
          },
          "metadata": {},
          "output_type": "display_data"
        }
      ],
      "source": [
        "width = 12\n",
        "height = 10\n",
        "plt.figure(figsize=(width, height))"
      ]
    },
    {
      "cell_type": "code",
      "execution_count": 32,
      "metadata": {},
      "outputs": [
        {
          "data": {
            "text/plain": [
              "(0.0, 48155.31225620063)"
            ]
          },
          "execution_count": 32,
          "metadata": {},
          "output_type": "execute_result"
        },
        {
          "data": {
            "image/png": "[encoded data removed]",
            "text/plain": [
              "<Figure size 640x480 with 1 Axes>"
            ]
          },
          "metadata": {},
          "output_type": "display_data"
        }
      ],
      "source": [
        "## Plot data and a linear regression model fit\n",
        "sns.regplot(x=\"highway-mpg\", y=\"price\", data=df)\n",
        "## Get or set the y-limits of the current axes\n",
        "plt.ylim(0, )"
      ]
    },
    {
      "attachments": {},
      "cell_type": "markdown",
      "metadata": {},
      "source": [
        "We can see from the plot that price is negatively correlated to \"highway-mpg\" since the regression slope is negative.\n",
        "\n",
        "One thing to keep in mind when looking at a regression plot is to pay attention to how scattered the data points are around the regression line. This indicates the variance of the data and whether a linear model would be the best fit or not. If the data is too far off from the line, this linear model might not be the best model for this data.\n",
        "\n",
        "Let's compare this plot to the regression plot of \"peak-rpm\"."
      ]
    },
    {
      "cell_type": "code",
      "execution_count": 33,
      "metadata": {},
      "outputs": [
        {
          "data": {
            "text/plain": [
              "<Figure size 1200x1000 with 0 Axes>"
            ]
          },
          "execution_count": 33,
          "metadata": {},
          "output_type": "execute_result"
        },
        {
          "data": {
            "text/plain": [
              "<Figure size 1200x1000 with 0 Axes>"
            ]
          },
          "metadata": {},
          "output_type": "display_data"
        }
      ],
      "source": [
        "plt.figure(figsize=(width, height))"
      ]
    },
    {
      "cell_type": "code",
      "execution_count": 34,
      "metadata": {},
      "outputs": [
        {
          "data": {
            "text/plain": [
              "(0.0, 47414.1)"
            ]
          },
          "execution_count": 34,
          "metadata": {},
          "output_type": "execute_result"
        },
        {
          "data": {
            "image/png": "[encoded data removed]",
            "text/plain": [
              "<Figure size 640x480 with 1 Axes>"
            ]
          },
          "metadata": {},
          "output_type": "display_data"
        }
      ],
      "source": [
        "## Plot data and a linear regression model fit\n",
        "sns.regplot(x=\"peak-rpm\", y=\"price\", data=df)\n",
        "## Get or set the y-limits of the current axes\n",
        "plt.ylim(0, )"
      ]
    },
    {
      "attachments": {},
      "cell_type": "markdown",
      "metadata": {},
      "source": [
        "Comparing the regression plots of \"peak-rpm\" and \"highway-mpg\", we see that the points for \"highway-mpg\" are much closer to the regression line and, on average, decrease. The points for \"peak-rpm\" have more spread around the predicted line and it is much harder to determine if the points are decreasing or increasing as the \"peak-rpm\" increases."
      ]
    },
    {
      "attachments": {},
      "cell_type": "markdown",
      "metadata": {},
      "source": [
        "7. Given the regression plots above, is \"peak-rpm\" or \"highway-mpg\" more strongly correlated with \"price\"? Use the method `corr()` to verify your answer."
      ]
    },
    {
      "cell_type": "code",
      "execution_count": 35,
      "metadata": {},
      "outputs": [
        {
          "data": {
            "text/html": [
              "<div>\n",
              "<style scoped>\n",
              "    .dataframe tbody tr th:only-of-type {\n",
              "        vertical-align: middle;\n",
              "    }\n",
              "\n",
              "    .dataframe tbody tr th {\n",
              "        vertical-align: top;\n",
              "    }\n",
              "\n",
              "    .dataframe thead th {\n",
              "        text-align: right;\n",
              "    }\n",
              "</style>\n",
              "<table border=\"1\" class=\"dataframe\">\n",
              "  <thead>\n",
              "    <tr style=\"text-align: right;\">\n",
              "      <th></th>\n",
              "      <th>peak-rpm</th>\n",
              "      <th>highway-mpg</th>\n",
              "      <th>price</th>\n",
              "    </tr>\n",
              "  </thead>\n",
              "  <tbody>\n",
              "    <tr>\n",
              "      <th>peak-rpm</th>\n",
              "      <td>1.000000</td>\n",
              "      <td>-0.058598</td>\n",
              "      <td>-0.101616</td>\n",
              "    </tr>\n",
              "    <tr>\n",
              "      <th>highway-mpg</th>\n",
              "      <td>-0.058598</td>\n",
              "      <td>1.000000</td>\n",
              "      <td>-0.704692</td>\n",
              "    </tr>\n",
              "    <tr>\n",
              "      <th>price</th>\n",
              "      <td>-0.101616</td>\n",
              "      <td>-0.704692</td>\n",
              "      <td>1.000000</td>\n",
              "    </tr>\n",
              "  </tbody>\n",
              "</table>\n",
              "</div>"
            ],
            "text/plain": [
              "             peak-rpm  highway-mpg     price\n",
              "peak-rpm     1.000000    -0.058598 -0.101616\n",
              "highway-mpg -0.058598     1.000000 -0.704692\n",
              "price       -0.101616    -0.704692  1.000000"
            ]
          },
          "execution_count": 35,
          "metadata": {},
          "output_type": "execute_result"
        }
      ],
      "source": [
        "df[[\"peak-rpm\", \"highway-mpg\", \"price\"]].corr()"
      ]
    },
    {
      "attachments": {},
      "cell_type": "markdown",
      "metadata": {},
      "source": [
        "The variable \"highway-mpg\" has a stronger correlation (i.e. -0.704692) with \"price\" compared to \"peak-rpm\" (i.e. -0.101616). "
      ]
    },
    {
      "attachments": {},
      "cell_type": "markdown",
      "metadata": {},
      "source": [
        "<details><summary>Click here for the solution</summary>\n",
        "\n",
        "```python\n",
        "# The variable \"highway-mpg\" has a stronger correlation with \"price\", it is approximate -0.704692  compared to \"peak-rpm\" which is approximate -0.101616. You can verify it using the following command:\n",
        "\n",
        "df[[\"peak-rpm\", \"highway-mpg\", \"price\"]].corr()\n",
        "```\n",
        "\n",
        "</details>"
      ]
    },
    {
      "attachments": {},
      "cell_type": "markdown",
      "metadata": {},
      "source": [
        "#### Residual Plot"
      ]
    },
    {
      "attachments": {},
      "cell_type": "markdown",
      "metadata": {},
      "source": [
        "A good way to visualize the variance of the data is to use a residual plot.\n",
        "\n",
        "What is a **residual**?\n",
        "\n",
        "The difference between the observed value (`Y`) and the predicted value (`Yhat`) is called the residual (`e`). When we look at a regression plot, the residual is the distance from the data point to the fitted regression line.\n",
        "\n",
        "So what is a **residual plot**?\n",
        "\n",
        "> A residual plot is a graph that shows the residuals on the vertical y-axis and the independent variable on the horizontal x-axis.\n",
        "\n",
        "What do we pay attention to when looking at a residual plot? We look at the spread of the residuals. If the points in a residual plot are randomly spread out around the x-axis, then a linear model is appropriate for the data. Why is that? Randomly spread out residuals means that the variance is constant, and thus the linear model is a good fit for this data."
      ]
    },
    {
      "cell_type": "code",
      "execution_count": 36,
      "metadata": {},
      "outputs": [
        {
          "data": {
            "text/plain": [
              "<Figure size 1200x1000 with 0 Axes>"
            ]
          },
          "execution_count": 36,
          "metadata": {},
          "output_type": "execute_result"
        },
        {
          "data": {
            "text/plain": [
              "<Figure size 1200x1000 with 0 Axes>"
            ]
          },
          "metadata": {},
          "output_type": "display_data"
        }
      ],
      "source": [
        "width = 12\n",
        "height = 10\n",
        "plt.figure(figsize=(width, height))"
      ]
    },
    {
      "cell_type": "code",
      "execution_count": 37,
      "metadata": {},
      "outputs": [
        {
          "data": {
            "image/png": "[encoded data removed]",
            "text/plain": [
              "<Figure size 640x480 with 1 Axes>"
            ]
          },
          "metadata": {},
          "output_type": "display_data"
        }
      ],
      "source": [
        "## Plot a scatterplot of the residuals of a linear regression\n",
        "sns.residplot(x=df['highway-mpg'], y=df['price'])\n",
        "plt.show()"
      ]
    },
    {
      "attachments": {},
      "cell_type": "markdown",
      "metadata": {},
      "source": [
        "We can see from this residual plot that the residuals are not randomly spread around the x-axis, leading us to believe that maybe a non-linear model is more appropriate for this data."
      ]
    },
    {
      "attachments": {},
      "cell_type": "markdown",
      "metadata": {},
      "source": [
        "### Multiple Linear Regression Model Evaluation Using Visualization"
      ]
    },
    {
      "attachments": {},
      "cell_type": "markdown",
      "metadata": {},
      "source": [
        "How do we visualize a Multiple Linear Regression model? This gets a bit more complicated because we cannot visualize it with regression or residual plot. One way to look at the fit of the model is by looking at the **distribution plot**. We can look at the distribution of the fitted values that result from the model and compare it to the distribution of the actual values."
      ]
    },
    {
      "attachments": {},
      "cell_type": "markdown",
      "metadata": {},
      "source": [
        "First, let's make a prediction."
      ]
    },
    {
      "cell_type": "code",
      "execution_count": 38,
      "metadata": {},
      "outputs": [],
      "source": [
        "## Predict the labels of the data values on the basis of the trained model\n",
        "Yhat_MLR = MLR_model.predict(z_MLR)"
      ]
    },
    {
      "cell_type": "code",
      "execution_count": 39,
      "metadata": {},
      "outputs": [
        {
          "data": {
            "text/plain": [
              "<Figure size 1200x1000 with 0 Axes>"
            ]
          },
          "execution_count": 39,
          "metadata": {},
          "output_type": "execute_result"
        },
        {
          "data": {
            "text/plain": [
              "<Figure size 1200x1000 with 0 Axes>"
            ]
          },
          "metadata": {},
          "output_type": "display_data"
        }
      ],
      "source": [
        "plt.figure(figsize=(12, 10))"
      ]
    },
    {
      "cell_type": "code",
      "execution_count": 40,
      "metadata": {},
      "outputs": [
        {
          "data": {
            "image/png": "[encoded data removed]",
            "text/plain": [
              "<Figure size 640x480 with 1 Axes>"
            ]
          },
          "metadata": {},
          "output_type": "display_data"
        }
      ],
      "source": [
        "## Draw distribution plot\n",
        "ax1 = sns.distplot(df['price'], hist=False, color=\"r\", label=\"Actual Values\")\n",
        "sns.distplot(Yhat_MLR, hist=False, color=\"b\", label=\"Fitted Values\", ax=ax1)\n",
        "## Title and labels\n",
        "plt.title('Actual vs Fitted Values for Price')\n",
        "plt.xlabel('Price (in dollars)')\n",
        "plt.ylabel('Proportion of Cars')\n",
        "plt.show()\n",
        "plt.close()"
      ]
    },
    {
      "attachments": {},
      "cell_type": "markdown",
      "metadata": {},
      "source": [
        "We can see that the fitted values are reasonably close to the actual values since the two distributions overlap a bit. However, there is definitely some room for improvement."
      ]
    },
    {
      "attachments": {},
      "cell_type": "markdown",
      "metadata": {},
      "source": [
        "## Part 04: Polynomial Regression and Pipelines"
      ]
    },
    {
      "attachments": {},
      "cell_type": "markdown",
      "metadata": {},
      "source": [
        "### Polynomial Regression"
      ]
    },
    {
      "attachments": {},
      "cell_type": "markdown",
      "metadata": {},
      "source": [
        "Polynomial regression is a particular case of the general linear regression or multiple linear regression models. We get non-linear relationships by squaring or setting higher-order terms of the predictor variables.\n",
        "\n",
        "There are different orders of polynomial regression:\n",
        "\n",
        "- Quadratic - 2nd Order\n",
        "\n",
        "$$\n",
        "Yhat = a + b_1 X + b_2 X^2 \n",
        "$$\n",
        "\n",
        "- Cubic - 3rd Order\n",
        "\n",
        "$$\n",
        "Yhat = a + b_1 X + b_2 X^2 + b_3 X^3\n",
        "$$\n",
        "\n",
        "- Higher-order\n",
        "\n",
        "$$\n",
        "Yhat = a + b_1 X + b_2 X^2 + b_3 X^3 + b_4 X^4 ....\n",
        "$$\n",
        "\n",
        "We saw earlier that a linear model did not provide the best fit while using \"highway-mpg\" as the predictor variable. Let's see if we can try fitting a polynomial model to the data instead."
      ]
    },
    {
      "attachments": {},
      "cell_type": "markdown",
      "metadata": {},
      "source": [
        "We will use the following function to plot the data."
      ]
    },
    {
      "cell_type": "code",
      "execution_count": 41,
      "metadata": {},
      "outputs": [],
      "source": [
        "def plot_polynomial(model, independent_variable, dependent_variabble, x_label):\n",
        "\t## Return evenly spaced numbers over a specified interval\n",
        "\tx_new = np.linspace(15, 55, 100)\n",
        "\ty_new = model(x_new)\n",
        "\t## Plot y versus x as lines and/or markers\n",
        "\t## Parameters: horizontal/vertical coordinates of the data points, format string for line properties\n",
        "\tplt.plot(independent_variable, dependent_variabble, '.', x_new, y_new, '-')\n",
        "\tplt.title('Polynomial Fit with Matplotlib for Price ~ Length')\n",
        "\t## Get the current Axes\n",
        "\tax = plt.gca()\n",
        "\t## Set the face color of the plot\n",
        "\tax.set_facecolor((0.898, 0.898, 0.898))\n",
        "\t## Get the current figure\n",
        "\tfig = plt.gcf()\n",
        "\tplt.xlabel(x_label)\n",
        "\tplt.ylabel('Car Price')\n",
        "\tplt.show()\n",
        "\tplt.close()"
      ]
    },
    {
      "attachments": {},
      "cell_type": "markdown",
      "metadata": {},
      "source": [
        "Let's fit the polynomial using the function `polyfit()`, then use the function `poly1d()` to display the polynomial function."
      ]
    },
    {
      "cell_type": "code",
      "execution_count": 42,
      "metadata": {},
      "outputs": [
        {
          "name": "stdout",
          "output_type": "stream",
          "text": [
            "[-1.55663829e+00  2.04754306e+02 -8.96543312e+03  1.37923594e+05]\n",
            "        3         2\n",
            "-1.557 x + 204.8 x - 8965 x + 1.379e+05\n"
          ]
        }
      ],
      "source": [
        "## Variables\n",
        "x_poly_3 = df['highway-mpg']\n",
        "y_poly_3 = df['price']\n",
        "## Fit a polynomial of degree \"deg\" to points (x, y) and return the polynomial coefficients\n",
        "## Polynomial of the 3rd order\n",
        "p_coef = np.polyfit(x_poly_3, y_poly_3, 3)\n",
        "print(p_coef)\n",
        "## Get 1-dimensional polynomial function\n",
        "p = np.poly1d(p_coef)\n",
        "print(p)"
      ]
    },
    {
      "cell_type": "code",
      "execution_count": 43,
      "metadata": {},
      "outputs": [
        {
          "data": {
            "image/png": "[encoded data removed]",
            "text/plain": [
              "<Figure size 640x480 with 1 Axes>"
            ]
          },
          "metadata": {},
          "output_type": "display_data"
        }
      ],
      "source": [
        "## Plot the function\n",
        "plot_polynomial(p, x_poly_3, y_poly_3, \"Highway MPG\")"
      ]
    },
    {
      "attachments": {},
      "cell_type": "markdown",
      "metadata": {},
      "source": [
        "We can see from plotting that this polynomial model performs better than the linear model. This is because the generated polynomial function  \"hits\" more of the data points."
      ]
    },
    {
      "attachments": {},
      "cell_type": "markdown",
      "metadata": {},
      "source": [
        "8. Create 11-order polynomial model with the variables $x$ and $y$ from above."
      ]
    },
    {
      "cell_type": "code",
      "execution_count": 44,
      "metadata": {},
      "outputs": [
        {
          "name": "stdout",
          "output_type": "stream",
          "text": [
            "[-1.24263306e-08  4.72184567e-06 -8.02842925e-04  8.05639738e-02\n",
            " -5.29740605e+00  2.39470156e+02 -7.58845183e+03  1.68447127e+05\n",
            " -2.56530956e+06  2.55140421e+07 -1.49106844e+08  3.87929763e+08]\n",
            "            11             10             9           8         7\n",
            "-1.243e-08 x  + 4.722e-06 x  - 0.0008028 x + 0.08056 x - 5.297 x\n",
            "          6        5             4             3             2\n",
            " + 239.5 x - 7588 x + 1.684e+05 x - 2.565e+06 x + 2.551e+07 x - 1.491e+08 x + 3.879e+08\n"
          ]
        },
        {
          "data": {
            "image/png": "[encoded data removed]",
            "text/plain": [
              "<Figure size 640x480 with 1 Axes>"
            ]
          },
          "metadata": {},
          "output_type": "display_data"
        }
      ],
      "source": [
        "## Variables\n",
        "x_poly_11 = df['highway-mpg']\n",
        "y_poly_11 = df['price']\n",
        "## Fit a polynomial of degree \"deg\" to points (x, y) and return the polynomial coefficients\n",
        "## Polynomial of the 3rd order\n",
        "p_11_coef = np.polyfit(x_poly_11, y_poly_11, 11)\n",
        "print(p_11_coef)\n",
        "## Get 1-dimensional polynomial function\n",
        "p_11 = np.poly1d(p_11_coef)\n",
        "print(p_11)\n",
        "## Plot the function\n",
        "plot_polynomial(p_11, x_poly_11, y_poly_11, \"hHighway MPG\")"
      ]
    },
    {
      "attachments": {},
      "cell_type": "markdown",
      "metadata": {},
      "source": [
        "<details><summary>Click here for the solution</summary>\n",
        "\n",
        "```python\n",
        "# Here we use a polynomial of the 11rd order\n",
        "f1 = np.polyfit(x, y, 11)\n",
        "p1 = np.poly1d(f1)\n",
        "print(p1)\n",
        "plot_polynomial(p1, x, y, 'Highway MPG')\n",
        "```\n",
        "\n",
        "</details>"
      ]
    },
    {
      "attachments": {},
      "cell_type": "markdown",
      "metadata": {},
      "source": [
        "#### Multivariate Polynomial"
      ]
    },
    {
      "attachments": {},
      "cell_type": "markdown",
      "metadata": {},
      "source": [
        "The analytical expression for Multivariate Polynomial function gets complicated. For example, the expression for a 2nd-order (degree=2) polynomial with 2 variables is given by:\n",
        "\n",
        "$$\n",
        "Yhat = a + b_1 X_1 +b_2 X_2 + b_3 X_1 X_2 + b_4 X_1^2 + b_5 X_2^2\n",
        "$$"
      ]
    },
    {
      "attachments": {},
      "cell_type": "markdown",
      "metadata": {},
      "source": [
        "We can perform a polynomial transform on multiple features. "
      ]
    },
    {
      "cell_type": "code",
      "execution_count": 45,
      "metadata": {},
      "outputs": [],
      "source": [
        "## Generate polynomial and interaction features\n",
        "from sklearn.preprocessing import PolynomialFeatures"
      ]
    },
    {
      "attachments": {},
      "cell_type": "markdown",
      "metadata": {},
      "source": [
        "We create a `PolynomialFeatures` object of degree 2."
      ]
    },
    {
      "cell_type": "code",
      "execution_count": 46,
      "metadata": {},
      "outputs": [],
      "source": [
        "## Create `PolynomialFeatures` object of degree 2\n",
        "pf_2 = PolynomialFeatures(degree=2)\n",
        "# print(type(pf_2))\n",
        "# print(pf_2)"
      ]
    },
    {
      "cell_type": "code",
      "execution_count": 47,
      "metadata": {},
      "outputs": [],
      "source": [
        "## Scale/standardize the training data and also learn the scaling parameters of that data\n",
        "# print(z_MLR)\n",
        "z_scaled = pf_2.fit_transform(z_MLR)\n",
        "# print(z_scaled)"
      ]
    },
    {
      "attachments": {},
      "cell_type": "markdown",
      "metadata": {},
      "source": [
        "In the original data, there are 201 samples and 4 features."
      ]
    },
    {
      "cell_type": "code",
      "execution_count": 48,
      "metadata": {},
      "outputs": [
        {
          "data": {
            "text/plain": [
              "(201, 4)"
            ]
          },
          "execution_count": 48,
          "metadata": {},
          "output_type": "execute_result"
        }
      ],
      "source": [
        "z_MLR.shape"
      ]
    },
    {
      "attachments": {},
      "cell_type": "markdown",
      "metadata": {},
      "source": [
        "After the transformation, there are 201 samples and 15 features."
      ]
    },
    {
      "cell_type": "code",
      "execution_count": 49,
      "metadata": {},
      "outputs": [
        {
          "data": {
            "text/plain": [
              "(201, 15)"
            ]
          },
          "execution_count": 49,
          "metadata": {},
          "output_type": "execute_result"
        }
      ],
      "source": [
        "z_scaled.shape"
      ]
    },
    {
      "attachments": {},
      "cell_type": "markdown",
      "metadata": {},
      "source": [
        "### Pipelines"
      ]
    },
    {
      "attachments": {},
      "cell_type": "markdown",
      "metadata": {},
      "source": [
        "**Data pipelines** simplify the steps of processing the data. We use the module `Pipeline` to create a pipeline. We also use `StandardScaler` as a step in our pipeline."
      ]
    },
    {
      "cell_type": "code",
      "execution_count": 50,
      "metadata": {},
      "outputs": [],
      "source": [
        "## Pipeline of transforms with a final estimator\n",
        "from sklearn.pipeline import Pipeline\n",
        "## Standardize features by removing the mean and scaling to unit variance\n",
        "from sklearn.preprocessing import StandardScaler"
      ]
    },
    {
      "attachments": {},
      "cell_type": "markdown",
      "metadata": {},
      "source": [
        "We create the pipeline by creating a list of tuples including the name of the model or estimator and its corresponding constructor. We input the list as an argument to the pipeline constructor."
      ]
    },
    {
      "cell_type": "code",
      "execution_count": 51,
      "metadata": {},
      "outputs": [
        {
          "name": "stdout",
          "output_type": "stream",
          "text": [
            "Pipeline(steps=[('scale', StandardScaler()),\n",
            "                ('polynomial', PolynomialFeatures(include_bias=False)),\n",
            "                ('model', LinearRegression())])\n"
          ]
        }
      ],
      "source": [
        "## List of (name, transform) tuples (implementing fit/transform) chained in sequential order; the last transform must be an estimator\n",
        "input = [('scale', StandardScaler()), ('polynomial', PolynomialFeatures(include_bias=False)), ('model', LinearRegression())]\n",
        "pipe = Pipeline(input)\n",
        "print(pipe)"
      ]
    },
    {
      "attachments": {},
      "cell_type": "markdown",
      "metadata": {},
      "source": [
        "First, we convert the data type `Z` to type float to avoid conversion warnings that may appear as a result of `StandardScaler` taking float inputs. Then, we can normalize the data, perform a transform and fit the model simultaneously."
      ]
    },
    {
      "cell_type": "code",
      "execution_count": 52,
      "metadata": {},
      "outputs": [
        {
          "data": {
            "text/plain": [
              "Pipeline(steps=[('scale', StandardScaler()),\n",
              "                ('polynomial', PolynomialFeatures(include_bias=False)),\n",
              "                ('model', LinearRegression())])"
            ]
          },
          "execution_count": 52,
          "metadata": {},
          "output_type": "execute_result"
        }
      ],
      "source": [
        "## Variables\n",
        "y_pipe = df['price']\n",
        "z_pipe = df[['horsepower', 'curb-weight', 'engine-size', 'highway-mpg']]\n",
        "## Change data type to float\n",
        "z_pipe = z_pipe.astype(float)\n",
        "## Fit/train the model; learn from data\n",
        "pipe.fit(z_pipe, y_pipe)"
      ]
    },
    {
      "attachments": {},
      "cell_type": "markdown",
      "metadata": {},
      "source": [
        "Similarly, we can normalize the data, perform a transform and produce a prediction simultaneously."
      ]
    },
    {
      "cell_type": "code",
      "execution_count": 53,
      "metadata": {},
      "outputs": [
        {
          "data": {
            "text/plain": [
              "array([13102.74784201, 13102.74784201, 18225.54572197, 10390.29636555,\n",
              "       16136.29619164])"
            ]
          },
          "execution_count": 53,
          "metadata": {},
          "output_type": "execute_result"
        }
      ],
      "source": [
        "## Transform the data, and apply predict with the final estimator\n",
        "yhat_pipe = pipe.predict(z_pipe)\n",
        "yhat_pipe[0:5]"
      ]
    },
    {
      "attachments": {},
      "cell_type": "markdown",
      "metadata": {},
      "source": [
        "9. Create a pipeline that standardizes the data, then produce a prediction using a linear regression model using the features Z and target y."
      ]
    },
    {
      "cell_type": "code",
      "execution_count": 54,
      "metadata": {},
      "outputs": [
        {
          "data": {
            "text/plain": [
              "array([13699.11161184, 13699.11161184, 19051.65470233, 10620.36193015,\n",
              "       15521.31420211, 13869.66673213, 15456.16196732, 15974.00907672,\n",
              "       17612.35917161, 10722.32509097])"
            ]
          },
          "execution_count": 54,
          "metadata": {},
          "output_type": "execute_result"
        }
      ],
      "source": [
        "# TODO: Unable to do this\n",
        "## Variables\n",
        "y_3 = df['price']\n",
        "z_3 = df[['horsepower', 'curb-weight', 'engine-size', 'highway-mpg']]\n",
        "pipe = Pipeline([('scale', StandardScaler()), ('model', LinearRegression())])\n",
        "pipe.fit(z_3, y_3)\n",
        "yhat3_pipe = pipe.predict(z_3)\n",
        "yhat3_pipe[0:10]"
      ]
    },
    {
      "attachments": {},
      "cell_type": "markdown",
      "metadata": {},
      "source": [
        "<details><summary>Click here for the solution</summary>\n",
        "\n",
        "```python\n",
        "Input = [('scale', StandardScaler()), ('model', LinearRegression())]\n",
        "\n",
        "pipe=Pipeline(Input)\n",
        "\n",
        "pipe.fit(Z,y)\n",
        "\n",
        "ypipe=pipe.predict(Z)\n",
        "ypipe[0:10]\n",
        "```\n",
        "\n",
        "</details>"
      ]
    },
    {
      "attachments": {},
      "cell_type": "markdown",
      "metadata": {},
      "source": [
        "See [What is the Scikit-learn Pipeline?](https://www.freecodecamp.org/news/machine-learning-pipeline/#what-is-the-scikit-learn-pipeline) for more."
      ]
    },
    {
      "attachments": {},
      "cell_type": "markdown",
      "metadata": {},
      "source": [
        "## Part 05: Measures for In-Sample Evaluation"
      ]
    },
    {
      "attachments": {},
      "cell_type": "markdown",
      "metadata": {},
      "source": [
        "When evaluating our models, not only do we want to visualize the results, but we also want a quantitative measure to determine how accurate the model is.\n",
        "\n",
        "2 important measures often used in Statistics to determine the accuracy of a model are:\n",
        "\n",
        "- R-squared ($R^2$)\n",
        "- Mean Squared Error (MSE)\n",
        "\n",
        "**R-squared**\n",
        "\n",
        "> R squared, also known as the coefficient of determination, is a measure to indicate how close the data is to the fitted regression line.\n",
        "\n",
        "The value of the R-squared is the percentage of variation of the response variable (y) explained by a linear model.\n",
        "\n",
        "**Mean Squared Error (MSE)**\n",
        "\n",
        "> The Mean Squared Error measures the average of the squares of errors. \n",
        "\n",
        "That is, the difference between actual value (y) and the estimated value (ŷ)."
      ]
    },
    {
      "attachments": {},
      "cell_type": "markdown",
      "metadata": {},
      "source": [
        "Let's import the function `mean_squared_error()` from the module `metrics`."
      ]
    },
    {
      "cell_type": "code",
      "execution_count": 55,
      "metadata": {},
      "outputs": [],
      "source": [
        "## Mean squared error regression loss\n",
        "from sklearn.metrics import mean_squared_error"
      ]
    },
    {
      "attachments": {},
      "cell_type": "markdown",
      "metadata": {},
      "source": [
        "### Model 1: Simple Linear Regression"
      ]
    },
    {
      "attachments": {},
      "cell_type": "markdown",
      "metadata": {},
      "source": [
        "Let's calculate $R^2$."
      ]
    },
    {
      "cell_type": "code",
      "execution_count": 56,
      "metadata": {},
      "outputs": [],
      "source": [
        "## Create linear regression model\n",
        "SLR_model = LinearRegression()"
      ]
    },
    {
      "cell_type": "code",
      "execution_count": 57,
      "metadata": {},
      "outputs": [],
      "source": [
        "## Variables\n",
        "x_SLR = df[['highway-mpg']]\n",
        "y_SLR = df['price']"
      ]
    },
    {
      "cell_type": "code",
      "execution_count": 58,
      "metadata": {},
      "outputs": [
        {
          "name": "stdout",
          "output_type": "stream",
          "text": [
            "R-square: 0.4965911884339175\n"
          ]
        }
      ],
      "source": [
        "## Train the machine learning model/algorithm on the training data\n",
        "SLR_model.fit(x_SLR, y_SLR)\n",
        "## Find R-squared\n",
        "print('R-square:', SLR_model.score(x_SLR, y_SLR))"
      ]
    },
    {
      "attachments": {},
      "cell_type": "markdown",
      "metadata": {},
      "source": [
        "We can say that ~49.659% of the variation of the price is explained by this simple linear model."
      ]
    },
    {
      "attachments": {},
      "cell_type": "markdown",
      "metadata": {},
      "source": [
        "Let's calculate MSE."
      ]
    },
    {
      "attachments": {},
      "cell_type": "markdown",
      "metadata": {},
      "source": [
        "We can predict the output, i.e. $\\^{Y}$ (Y-hat), using the `predict()` method, where $X$ is the input variable."
      ]
    },
    {
      "cell_type": "code",
      "execution_count": 59,
      "metadata": {},
      "outputs": [
        {
          "name": "stdout",
          "output_type": "stream",
          "text": [
            "Predicted values: [16236.50464347 16236.50464347 17058.23802179 13771.3045085\n",
            " 20345.17153508 17879.97140011 17879.97140011 17879.97140011\n",
            " 21988.63829172 14593.03788682]\n"
          ]
        }
      ],
      "source": [
        "## Predict the labels of the data values on the basis of the trained model\n",
        "Yhat_SLR = SLR_model.predict(x_SLR)\n",
        "# print('Predicted values:', Yhat_SLR)\n",
        "print('Predicted values:', Yhat_SLR[0:10])"
      ]
    },
    {
      "attachments": {},
      "cell_type": "markdown",
      "metadata": {},
      "source": [
        "We can compare the predicted results with the actual results."
      ]
    },
    {
      "cell_type": "code",
      "execution_count": 60,
      "metadata": {},
      "outputs": [
        {
          "name": "stdout",
          "output_type": "stream",
          "text": [
            "MSE of actual and predicted price values: 31635042.944639895\n"
          ]
        }
      ],
      "source": [
        "## Find mean squared error regression loss\n",
        "mse_SLR = mean_squared_error(df['price'], Yhat_SLR)\n",
        "print('MSE of actual and predicted price values:', mse_SLR)"
      ]
    },
    {
      "attachments": {},
      "cell_type": "markdown",
      "metadata": {},
      "source": [
        "### Model 2: Multiple Linear Regression"
      ]
    },
    {
      "attachments": {},
      "cell_type": "markdown",
      "metadata": {},
      "source": [
        "Let's calculate $R^2$."
      ]
    },
    {
      "cell_type": "code",
      "execution_count": 61,
      "metadata": {},
      "outputs": [],
      "source": [
        "## Create linear regression model\n",
        "MLR_model = LinearRegression()"
      ]
    },
    {
      "cell_type": "code",
      "execution_count": 62,
      "metadata": {},
      "outputs": [],
      "source": [
        "## Variables\n",
        "z_MLR = df[['horsepower', 'curb-weight', 'engine-size', 'highway-mpg']]\n",
        "y_MLR = df['price']"
      ]
    },
    {
      "cell_type": "code",
      "execution_count": 63,
      "metadata": {},
      "outputs": [
        {
          "name": "stdout",
          "output_type": "stream",
          "text": [
            "R-square: 0.8093562806577457\n"
          ]
        }
      ],
      "source": [
        "## Train the machine learning model/algorithm on the training data\n",
        "MLR_model.fit(z_MLR, y_MLR)\n",
        "## Find R-squared\n",
        "print('R-square:', MLR_model.score(z_MLR, y_MLR))"
      ]
    },
    {
      "attachments": {},
      "cell_type": "markdown",
      "metadata": {},
      "source": [
        "We can say that ~80.896 % of the variation of price is explained by this multiple linear regression."
      ]
    },
    {
      "attachments": {},
      "cell_type": "markdown",
      "metadata": {},
      "source": [
        "Let's calculate the MSE."
      ]
    },
    {
      "attachments": {},
      "cell_type": "markdown",
      "metadata": {},
      "source": [
        "We produce a prediction."
      ]
    },
    {
      "cell_type": "code",
      "execution_count": 64,
      "metadata": {},
      "outputs": [
        {
          "name": "stdout",
          "output_type": "stream",
          "text": [
            "Predicted values: [13699.11161184 13699.11161184 19051.65470233 10620.36193015\n",
            " 15521.31420211 13869.66673213 15456.16196732 15974.00907672\n",
            " 17612.35917161 10722.32509097]\n"
          ]
        }
      ],
      "source": [
        "## Predict the labels of the data values on the basis of the trained model\n",
        "Yhat_MLR = MLR_model.predict(z_MLR)\n",
        "print('Predicted values:', Yhat_MLR[0:10])"
      ]
    },
    {
      "attachments": {},
      "cell_type": "markdown",
      "metadata": {},
      "source": [
        "We can compare the predicted results with the actual results."
      ]
    },
    {
      "cell_type": "code",
      "execution_count": 65,
      "metadata": {},
      "outputs": [
        {
          "name": "stdout",
          "output_type": "stream",
          "text": [
            "MSE of actual and predicted price values: 11980366.87072649\n"
          ]
        }
      ],
      "source": [
        "## Find mean squared error regression loss\n",
        "mse_MLR = mean_squared_error(df['price'], Yhat_MLR)\n",
        "print('MSE of actual and predicted price values:', mse_MLR)"
      ]
    },
    {
      "attachments": {},
      "cell_type": "markdown",
      "metadata": {},
      "source": [
        "### Model 3: Polynomial Fit"
      ]
    },
    {
      "attachments": {},
      "cell_type": "markdown",
      "metadata": {},
      "source": [
        "Let's calculate $R^2$."
      ]
    },
    {
      "attachments": {},
      "cell_type": "markdown",
      "metadata": {},
      "source": [
        "Let's import the function `r2_score()` from the module `metrics`."
      ]
    },
    {
      "cell_type": "code",
      "execution_count": 66,
      "metadata": {},
      "outputs": [],
      "source": [
        "## R^2 (coefficient of determination) regression score function\n",
        "from sklearn.metrics import r2_score"
      ]
    },
    {
      "attachments": {},
      "cell_type": "markdown",
      "metadata": {},
      "source": [
        "We apply the function to get the value of $R^2$."
      ]
    },
    {
      "cell_type": "code",
      "execution_count": 67,
      "metadata": {},
      "outputs": [
        {
          "name": "stdout",
          "output_type": "stream",
          "text": [
            "R-squared: 0.674194666390652\n"
          ]
        }
      ],
      "source": [
        "## Find R-squared \n",
        "r_squared = r2_score(y_poly_3, p(x_poly_3))\n",
        "print('R-squared:', r_squared)"
      ]
    },
    {
      "attachments": {},
      "cell_type": "markdown",
      "metadata": {},
      "source": [
        "We can say that ~67.419 % of the variation of price is explained by this polynomial fit."
      ]
    },
    {
      "attachments": {},
      "cell_type": "markdown",
      "metadata": {},
      "source": [
        "Let's calculate the MSE."
      ]
    },
    {
      "cell_type": "code",
      "execution_count": 68,
      "metadata": {},
      "outputs": [
        {
          "name": "stdout",
          "output_type": "stream",
          "text": [
            "MSE of actual and predicted price values: 20474146.426361218\n"
          ]
        }
      ],
      "source": [
        "## Find mean squared error regression loss\n",
        "mse_poly = mean_squared_error(df['price'], p(x_poly_3))\n",
        "print('MSE of actual and predicted price values:', mse_poly)"
      ]
    },
    {
      "attachments": {},
      "cell_type": "markdown",
      "metadata": {},
      "source": [
        "## Part 06: Prediction and Decision Making"
      ]
    },
    {
      "attachments": {},
      "cell_type": "markdown",
      "metadata": {},
      "source": [
        "### Prediction"
      ]
    },
    {
      "attachments": {},
      "cell_type": "markdown",
      "metadata": {},
      "source": [
        "In the previous section, we trained the model using the method `fit()`. Now we will use the method `predict()` to produce a prediction. "
      ]
    },
    {
      "cell_type": "code",
      "execution_count": 69,
      "metadata": {},
      "outputs": [],
      "source": [
        "## Create linear regression model\n",
        "model = LinearRegression()"
      ]
    },
    {
      "attachments": {},
      "cell_type": "markdown",
      "metadata": {},
      "source": [
        "Create a new input."
      ]
    },
    {
      "cell_type": "code",
      "execution_count": 70,
      "metadata": {},
      "outputs": [],
      "source": [
        "## A sequence of values in a specified range\n",
        "new_input = np.arange(1, 100, 1).reshape(-1, 1)"
      ]
    },
    {
      "attachments": {},
      "cell_type": "markdown",
      "metadata": {},
      "source": [
        "Fit/train the model."
      ]
    },
    {
      "cell_type": "code",
      "execution_count": 71,
      "metadata": {},
      "outputs": [
        {
          "data": {
            "text/plain": [
              "LinearRegression()"
            ]
          },
          "execution_count": 71,
          "metadata": {},
          "output_type": "execute_result"
        }
      ],
      "source": [
        "## Train the machine learning model/algorithm on the training data\n",
        "model.fit(df[['highway-mpg']], df['price'])\n",
        "model"
      ]
    },
    {
      "attachments": {},
      "cell_type": "markdown",
      "metadata": {},
      "source": [
        "We can use the output to predict new values."
      ]
    },
    {
      "cell_type": "code",
      "execution_count": 72,
      "metadata": {},
      "outputs": [
        {
          "data": {
            "text/plain": [
              "array([37601.57247984, 36779.83910151, 35958.10572319, 35136.37234487,\n",
              "       34314.63896655])"
            ]
          },
          "execution_count": 72,
          "metadata": {},
          "output_type": "execute_result"
        }
      ],
      "source": [
        "## ## Predict the labels of the data values on the basis of the trained model\n",
        "yhat = model.predict(new_input)\n",
        "yhat[0:5]"
      ]
    },
    {
      "attachments": {},
      "cell_type": "markdown",
      "metadata": {},
      "source": [
        "We can plot the data."
      ]
    },
    {
      "cell_type": "code",
      "execution_count": 73,
      "metadata": {},
      "outputs": [
        {
          "data": {
            "image/png": "[encoded data removed]",
            "text/plain": [
              "<Figure size 640x480 with 1 Axes>"
            ]
          },
          "metadata": {},
          "output_type": "display_data"
        }
      ],
      "source": [
        "## Plot y versus x as lines and/or markers\n",
        "plt.plot(new_input, yhat)\n",
        "plt.show()"
      ]
    },
    {
      "attachments": {},
      "cell_type": "markdown",
      "metadata": {},
      "source": [
        "### Decision Making: Determining a Good Model Fit"
      ]
    },
    {
      "attachments": {},
      "cell_type": "markdown",
      "metadata": {},
      "source": [
        "Now that we have visualized the different models and generated the R-squared and MSE values for the fits, how do we determine a good model fit?\n",
        "\n",
        "1. What is a good R-squared value?\n",
        "\n",
        "When comparing models, the model with the **higher R-squared** value is a better fit for the data.\n",
        "\n",
        "2. What is a good MSE?\n",
        "\n",
        "When comparing models, the model with the **smallest MSE** value is a better fit for the data.\n",
        "\n",
        "Let's take a look at the values for the different models.\n",
        "\n",
        "Simple Linear Regression: Using Highway MPG as a Predictor Variable of Price\n",
        "\n",
        "- R-squared: 0.49659118843391759\n",
        "- MSE: $3.16 \\times 10^7$\n",
        "\n",
        "Multiple Linear Regression: Using Horsepower, Curb-weight, Engine-size and Highway-mpg as Predictor Variables of Price\n",
        "\n",
        "- R-squared: 0.80896354913783497\n",
        "- MSE: $1.2 \\times 10^7$\n",
        "\n",
        "Polynomial Fit: Using Highway-mpg as a Predictor Variable of Price\n",
        "\n",
        "- R-squared: 0.6741946663906514\n",
        "- MSE: $2.05 \\times 10^7$"
      ]
    },
    {
      "attachments": {},
      "cell_type": "markdown",
      "metadata": {},
      "source": [
        "#### Simple Linear Regression Model (SLR) vs. Multiple Linear Regression Model (MLR)"
      ]
    },
    {
      "attachments": {},
      "cell_type": "markdown",
      "metadata": {},
      "source": [
        "Usually, the more variables there are, the better the model is at predicting but this is not always true. Sometimes, we may not have enough data, we may run into numerical problems, or many of the variables may not be useful and even act as noise. As a result, we should always check the $MSE$ and $R^2$.\n",
        "\n",
        "In order to compare the results of the MLR vs. SLR models, we look at a combination of both the R-squared and MSE to make the best conclusion about the fit of the model.\n",
        "\n",
        "- MSE: $MSE$ of MLR is much smaller\n",
        "  - SLR: $3.16 \\times 10^7$\n",
        "  - MLR: $1.2 \\times 10^7$\n",
        "- R-squared: $R^2$ of SLR much smaller \n",
        "  - SLR: ~0.497\n",
        "  - MLR: ~0.809\n",
        "\n",
        "This R-squared in combination with the MSE show that MLR seems to be the better model fit in this case compared to SLR."
      ]
    },
    {
      "attachments": {},
      "cell_type": "markdown",
      "metadata": {},
      "source": [
        "#### Simple Linear Model (SLR) vs. Polynomial Fit"
      ]
    },
    {
      "attachments": {},
      "cell_type": "markdown",
      "metadata": {},
      "source": [
        "- MSE: We can see that polynomial fit brought down the MSE since this MSE is smaller than the one from the SLR. \n",
        "- R-squared: The R-squared for the polynomial fit is larger than the R-squared for the SLR, so the polynomial fit also brought up the R-squared quite a bit.\n",
        "\n",
        "Since the polynomial fit resulted in a lower MSE and a higher R-squared, we can conclude that it was a better fit model than the simple linear regression for predicting \"price\" with \"highway-mpg\" as a predictor variable."
      ]
    },
    {
      "attachments": {},
      "cell_type": "markdown",
      "metadata": {},
      "source": [
        "#### Multiple Linear Regression (MLR) vs. Polynomial Fit"
      ]
    },
    {
      "attachments": {},
      "cell_type": "markdown",
      "metadata": {},
      "source": [
        "- MSE: $MSE$ for the MLR $<$ $MSE$ for the polynomial fit\n",
        "- R-squared: $R^2$ for the MLR $>$ $R^2$ for the polynomial fit"
      ]
    },
    {
      "attachments": {},
      "cell_type": "markdown",
      "metadata": {},
      "source": [
        "## Conclusion"
      ]
    },
    {
      "attachments": {},
      "cell_type": "markdown",
      "metadata": {},
      "source": [
        "Comparing these 3 models, we conclude that the MLR model is the best model to be able to predict price from our dataset. This result makes sense since we have 27 variables in total and we know that more than one of those variables are potential predictors of the final car price."
      ]
    },
    {
      "attachments": {},
      "cell_type": "markdown",
      "metadata": {},
      "source": [
        "---"
      ]
    },
    {
      "attachments": {},
      "cell_type": "markdown",
      "metadata": {},
      "source": [
        "Author(s):\n",
        "\n",
        "- [Joseph Santarcangelo](https://www.linkedin.com/in/joseph-s-50398b136)\n",
        "\n",
        "Contributor(s):\n",
        "\n",
        "- [Mahdi Noorian PhD](https://www.linkedin.com/in/mahdi-noorian-58219234)\n",
        "- Bahare Talayian\n",
        "- Eric Xiao\n",
        "- Steven Dong\n",
        "- Parizad\n",
        "- Hima Vasudevan\n",
        "- [Fiorella Wenver](https://www.linkedin.com/in/fiorellawever)\n",
        "- [Yi Yao](https://www.linkedin.com/in/yi-leng-yao-84451275)"
      ]
    }
  ],
  "metadata": {
    "kernelspec": {
      "display_name": "base",
      "language": "python",
      "name": "python3"
    },
    "language_info": {
      "codemirror_mode": {
        "name": "ipython",
        "version": 3
      },
      "file_extension": ".py",
      "mimetype": "text/x-python",
      "name": "python",
      "nbconvert_exporter": "python",
      "pygments_lexer": "ipython3",
      "version": "3.8.13"
    }
  },
  "nbformat": 4,
  "nbformat_minor": 4
}
